{
 "cells": [
  {
   "cell_type": "markdown",
   "metadata": {},
   "source": [
    "# Flask"
   ]
  },
  {
   "cell_type": "markdown",
   "metadata": {},
   "source": [
    "Flask is a web application framework written in python i.e. it is a third-party Python library used for developing web applications."
   ]
  },
  {
   "cell_type": "markdown",
   "metadata": {},
   "source": [
    "### To install flask"
   ]
  },
  {
   "cell_type": "code",
   "execution_count": 1,
   "metadata": {},
   "outputs": [],
   "source": [
    "# pip install flask"
   ]
  },
  {
   "cell_type": "markdown",
   "metadata": {},
   "source": [
    "### Get starting with flask"
   ]
  },
  {
   "cell_type": "code",
   "execution_count": 3,
   "metadata": {},
   "outputs": [
    {
     "name": "stdout",
     "output_type": "stream",
     "text": [
      " * Serving Flask app \"__main__\" (lazy loading)\n",
      " * Environment: production\n",
      "   WARNING: This is a development server. Do not use it in a production deployment.\n",
      "   Use a production WSGI server instead.\n",
      " * Debug mode: off\n"
     ]
    },
    {
     "name": "stderr",
     "output_type": "stream",
     "text": [
      " * Running on http://127.0.0.1:5000/ (Press CTRL+C to quit)\n",
      "127.0.0.1 - - [30/Aug/2020 12:16:08] \"\u001b[37mGET / HTTP/1.1\u001b[0m\" 200 -\n"
     ]
    }
   ],
   "source": [
    "from flask import Flask\n",
    "app = Flask(__name__)\n",
    "\n",
    "@app.route(\"/\")  # flask routing\n",
    "def hello():\n",
    "    return \"Hello World…\"\n",
    "\n",
    "if __name__ == \"__main__\":\n",
    "    app.run()"
   ]
  },
  {
   "cell_type": "code",
   "execution_count": 10,
   "metadata": {},
   "outputs": [
    {
     "name": "stdout",
     "output_type": "stream",
     "text": [
      " * Serving Flask app \"__main__\" (lazy loading)\n",
      " * Environment: production\n",
      "   WARNING: This is a development server. Do not use it in a production deployment.\n",
      "   Use a production WSGI server instead.\n",
      " * Debug mode: off\n"
     ]
    },
    {
     "name": "stderr",
     "output_type": "stream",
     "text": [
      " * Running on http://127.0.0.1:5000/ (Press CTRL+C to quit)\n",
      "127.0.0.1 - - [30/Aug/2020 12:23:59] \"\u001b[37mGET / HTTP/1.1\u001b[0m\" 200 -\n"
     ]
    }
   ],
   "source": [
    "from flask import Flask\n",
    "app = Flask(__name__)\n",
    "\n",
    "@app.route(\"/\")\n",
    "def hello():\n",
    "    return \"Hello World… <h1>Ishwar</h1>\"\n",
    "\n",
    "if __name__ == \"__main__\":\n",
    "    app.run()"
   ]
  },
  {
   "cell_type": "code",
   "execution_count": 16,
   "metadata": {},
   "outputs": [
    {
     "name": "stdout",
     "output_type": "stream",
     "text": [
      " * Serving Flask app \"__main__\" (lazy loading)\n",
      " * Environment: production\n",
      "   WARNING: This is a development server. Do not use it in a production deployment.\n",
      "   Use a production WSGI server instead.\n",
      " * Debug mode: off\n"
     ]
    },
    {
     "name": "stderr",
     "output_type": "stream",
     "text": [
      " * Running on http://127.0.0.1:5000/ (Press CTRL+C to quit)\n",
      "127.0.0.1 - - [30/Aug/2020 12:33:54] \"\u001b[37mGET / HTTP/1.1\u001b[0m\" 200 -\n",
      "127.0.0.1 - - [30/Aug/2020 12:34:01] \"\u001b[37mGET /ishwar HTTP/1.1\u001b[0m\" 200 -\n",
      "127.0.0.1 - - [30/Aug/2020 12:34:10] \"\u001b[37mGET /bijay HTTP/1.1\u001b[0m\" 200 -\n"
     ]
    }
   ],
   "source": [
    "from flask import Flask  \n",
    "app = Flask(__name__)  \n",
    "\n",
    "@app.route(\"/\")\n",
    "def home():\n",
    "    return \"This is home page\"\n",
    "\n",
    "@app.route(\"/<name>\")\n",
    "def user(name):\n",
    "    return f\"Hello {name}! How are you?\" \n",
    "  \n",
    "if __name__ ==\"__main__\":  \n",
    "    app.run() "
   ]
  },
  {
   "cell_type": "code",
   "execution_count": 17,
   "metadata": {},
   "outputs": [
    {
     "name": "stdout",
     "output_type": "stream",
     "text": [
      " * Serving Flask app \"__main__\" (lazy loading)\n",
      " * Environment: production\n",
      "   WARNING: This is a development server. Do not use it in a production deployment.\n",
      "   Use a production WSGI server instead.\n",
      " * Debug mode: off\n"
     ]
    },
    {
     "name": "stderr",
     "output_type": "stream",
     "text": [
      " * Running on http://127.0.0.1:5000/ (Press CTRL+C to quit)\n",
      "127.0.0.1 - - [30/Aug/2020 12:37:42] \"\u001b[37mGET / HTTP/1.1\u001b[0m\" 200 -\n",
      "127.0.0.1 - - [30/Aug/2020 12:37:47] \"\u001b[33mGET /ishwar HTTP/1.1\u001b[0m\" 404 -\n",
      "127.0.0.1 - - [30/Aug/2020 12:37:57] \"\u001b[37mGET /home/Ishwar HTTP/1.1\u001b[0m\" 200 -\n"
     ]
    }
   ],
   "source": [
    "from flask import Flask  \n",
    "app = Flask(__name__)  \n",
    "\n",
    "@app.route(\"/\")\n",
    "@app.route(\"/home\")\n",
    "def home():\n",
    "    return \"This is home page\"\n",
    "\n",
    "@app.route(\"/home/<name>\")\n",
    "def user(name):\n",
    "    return f\"Hello {name}! How are you?\" \n",
    "  \n",
    "if __name__ ==\"__main__\":  \n",
    "    app.run() "
   ]
  },
  {
   "cell_type": "code",
   "execution_count": 1,
   "metadata": {},
   "outputs": [
    {
     "name": "stdout",
     "output_type": "stream",
     "text": [
      " * Serving Flask app \"__main__\" (lazy loading)\n",
      " * Environment: production\n",
      "   WARNING: This is a development server. Do not use it in a production deployment.\n",
      "   Use a production WSGI server instead.\n",
      " * Debug mode: off\n"
     ]
    },
    {
     "name": "stderr",
     "output_type": "stream",
     "text": [
      " * Running on http://127.0.0.1:5000/ (Press CTRL+C to quit)\n",
      "127.0.0.1 - - [30/Aug/2020 13:05:04] \"\u001b[37mGET / HTTP/1.1\u001b[0m\" 200 -\n",
      "127.0.0.1 - - [30/Aug/2020 13:05:08] \"\u001b[37mGET /html HTTP/1.1\u001b[0m\" 200 -\n"
     ]
    }
   ],
   "source": [
    "from flask import Flask, render_template\n",
    "app = Flask(__name__)\n",
    "\n",
    "@app.route(\"/\")\n",
    "@app.route(\"/home\")\n",
    "def home():\n",
    "    return \"This is home page\"\n",
    "\n",
    "@app.route(\"/html\")\n",
    "def html():\n",
    "    return render_template(\"new.html\")\n",
    "  \n",
    "if __name__ ==\"__main__\":  \n",
    "    app.run() "
   ]
  },
  {
   "cell_type": "code",
   "execution_count": 2,
   "metadata": {},
   "outputs": [
    {
     "name": "stdout",
     "output_type": "stream",
     "text": [
      " * Serving Flask app \"__main__\" (lazy loading)\n",
      " * Environment: production\n",
      "   WARNING: This is a development server. Do not use it in a production deployment.\n",
      "   Use a production WSGI server instead.\n",
      " * Debug mode: off\n"
     ]
    },
    {
     "name": "stderr",
     "output_type": "stream",
     "text": [
      " * Running on http://127.0.0.1:5000/ (Press CTRL+C to quit)\n",
      "127.0.0.1 - - [30/Aug/2020 13:08:53] \"\u001b[37mGET / HTTP/1.1\u001b[0m\" 200 -\n",
      "127.0.0.1 - - [30/Aug/2020 13:08:58] \"\u001b[37mGET /login HTTP/1.1\u001b[0m\" 200 -\n",
      "127.0.0.1 - - [30/Aug/2020 13:09:01] \"\u001b[37mGET /login HTTP/1.1\u001b[0m\" 200 -\n",
      "127.0.0.1 - - [30/Aug/2020 13:09:06] \"\u001b[32mGET /logout HTTP/1.1\u001b[0m\" 302 -\n",
      "127.0.0.1 - - [30/Aug/2020 13:09:06] \"\u001b[37mGET /home HTTP/1.1\u001b[0m\" 200 -\n"
     ]
    }
   ],
   "source": [
    "from flask import Flask, redirect, url_for\n",
    "app = Flask(__name__)\n",
    "\n",
    "@app.route(\"/\")  \n",
    "@app.route(\"/home\")\n",
    "def home():\n",
    "    return \"This is home page\"\n",
    "\n",
    "@app.route(\"/login\")\n",
    "def login():\n",
    "    return (\"Login successfully....\")\n",
    "\n",
    "@app.route(\"/logout\")\n",
    "def logout():\n",
    "    return redirect(url_for(\"home\"))\n",
    "    \n",
    "\n",
    "if __name__ == \"__main__\":\n",
    "    app.run()"
   ]
  },
  {
   "cell_type": "code",
   "execution_count": 17,
   "metadata": {
    "scrolled": true
   },
   "outputs": [
    {
     "name": "stdout",
     "output_type": "stream",
     "text": [
      " * Serving Flask app \"__main__\" (lazy loading)\n",
      " * Environment: production\n",
      "   WARNING: This is a development server. Do not use it in a production deployment.\n",
      "   Use a production WSGI server instead.\n",
      " * Debug mode: off\n"
     ]
    },
    {
     "name": "stderr",
     "output_type": "stream",
     "text": [
      " * Running on http://127.0.0.1:5000/ (Press CTRL+C to quit)\n",
      "127.0.0.1 - - [30/Aug/2020 14:01:38] \"\u001b[37mGET / HTTP/1.1\u001b[0m\" 200 -\n",
      "127.0.0.1 - - [30/Aug/2020 14:01:41] \"\u001b[37mGET /login HTTP/1.1\u001b[0m\" 200 -\n"
     ]
    }
   ],
   "source": [
    "from flask import Flask, redirect, url_for, render_template\n",
    "app = Flask(__name__)\n",
    "\n",
    "@app.route(\"/\")  \n",
    "@app.route(\"/home\")\n",
    "def home():\n",
    "    return render_template(\"home.html\")\n",
    "\n",
    "@app.route(\"/login\")\n",
    "def login():\n",
    "    return render_template(\"login.html\")\n",
    "\n",
    "@app.route(\"/logout\")\n",
    "def logout():\n",
    "    return redirect(url_for(\"home\"))\n",
    "    \n",
    "\n",
    "if __name__ == \"__main__\":\n",
    "    app.run()"
   ]
  },
  {
   "cell_type": "code",
   "execution_count": null,
   "metadata": {},
   "outputs": [
    {
     "name": "stdout",
     "output_type": "stream",
     "text": [
      " * Serving Flask app \"__main__\" (lazy loading)\n",
      " * Environment: production\n",
      "   WARNING: This is a development server. Do not use it in a production deployment.\n",
      "   Use a production WSGI server instead.\n",
      " * Debug mode: off\n"
     ]
    },
    {
     "name": "stderr",
     "output_type": "stream",
     "text": [
      " * Running on http://127.0.0.1:5000/ (Press CTRL+C to quit)\n",
      "127.0.0.1 - - [30/Aug/2020 16:00:17] \"\u001b[37mGET / HTTP/1.1\u001b[0m\" 200 -\n",
      "127.0.0.1 - - [30/Aug/2020 16:00:27] \"\u001b[37mGET /login HTTP/1.1\u001b[0m\" 200 -\n",
      "[2020-08-30 16:00:37,941] ERROR in app: Exception on /login/submit [POST]\n",
      "Traceback (most recent call last):\n",
      "  File \"C:\\Users\\Ishwar Gautam\\anaconda3\\lib\\site-packages\\flask\\app.py\", line 2446, in wsgi_app\n",
      "    response = self.full_dispatch_request()\n",
      "  File \"C:\\Users\\Ishwar Gautam\\anaconda3\\lib\\site-packages\\flask\\app.py\", line 1951, in full_dispatch_request\n",
      "    rv = self.handle_user_exception(e)\n",
      "  File \"C:\\Users\\Ishwar Gautam\\anaconda3\\lib\\site-packages\\flask\\app.py\", line 1820, in handle_user_exception\n",
      "    reraise(exc_type, exc_value, tb)\n",
      "  File \"C:\\Users\\Ishwar Gautam\\anaconda3\\lib\\site-packages\\flask\\_compat.py\", line 39, in reraise\n",
      "    raise value\n",
      "  File \"C:\\Users\\Ishwar Gautam\\anaconda3\\lib\\site-packages\\flask\\app.py\", line 1949, in full_dispatch_request\n",
      "    rv = self.dispatch_request()\n",
      "  File \"C:\\Users\\Ishwar Gautam\\anaconda3\\lib\\site-packages\\flask\\app.py\", line 1935, in dispatch_request\n",
      "    return self.view_functions[rule.endpoint](**req.view_args)\n",
      "  File \"<ipython-input-3-254b5118dcb4>\", line 19, in submit\n",
      "    if request.method == 'POST':\n",
      "NameError: name 'request' is not defined\n",
      "127.0.0.1 - - [30/Aug/2020 16:00:38] \"\u001b[35m\u001b[1mPOST /login/submit HTTP/1.1\u001b[0m\" 500 -\n",
      "127.0.0.1 - - [30/Aug/2020 16:01:14] \"\u001b[37mGET /home HTTP/1.1\u001b[0m\" 200 -\n",
      "127.0.0.1 - - [30/Aug/2020 16:01:18] \"\u001b[37mGET /login HTTP/1.1\u001b[0m\" 200 -\n",
      "[2020-08-30 16:01:25,653] ERROR in app: Exception on /login/submit [GET]\n",
      "Traceback (most recent call last):\n",
      "  File \"C:\\Users\\Ishwar Gautam\\anaconda3\\lib\\site-packages\\flask\\app.py\", line 2446, in wsgi_app\n",
      "    response = self.full_dispatch_request()\n",
      "  File \"C:\\Users\\Ishwar Gautam\\anaconda3\\lib\\site-packages\\flask\\app.py\", line 1951, in full_dispatch_request\n",
      "    rv = self.handle_user_exception(e)\n",
      "  File \"C:\\Users\\Ishwar Gautam\\anaconda3\\lib\\site-packages\\flask\\app.py\", line 1820, in handle_user_exception\n",
      "    reraise(exc_type, exc_value, tb)\n",
      "  File \"C:\\Users\\Ishwar Gautam\\anaconda3\\lib\\site-packages\\flask\\_compat.py\", line 39, in reraise\n",
      "    raise value\n",
      "  File \"C:\\Users\\Ishwar Gautam\\anaconda3\\lib\\site-packages\\flask\\app.py\", line 1949, in full_dispatch_request\n",
      "    rv = self.dispatch_request()\n",
      "  File \"C:\\Users\\Ishwar Gautam\\anaconda3\\lib\\site-packages\\flask\\app.py\", line 1935, in dispatch_request\n",
      "    return self.view_functions[rule.endpoint](**req.view_args)\n",
      "  File \"<ipython-input-3-254b5118dcb4>\", line 19, in submit\n",
      "    if request.method == 'POST':\n",
      "NameError: name 'request' is not defined\n",
      "127.0.0.1 - - [30/Aug/2020 16:01:25] \"\u001b[35m\u001b[1mGET /login/submit HTTP/1.1\u001b[0m\" 500 -\n",
      "127.0.0.1 - - [30/Aug/2020 16:01:30] \"\u001b[33mGET /submit HTTP/1.1\u001b[0m\" 404 -\n"
     ]
    }
   ],
   "source": [
    "from flask import Flask, redirect, url_for, render_template\n",
    "app = Flask(__name__)\n",
    "\n",
    "@app.route(\"/\")  \n",
    "@app.route(\"/home\")\n",
    "def home():\n",
    "    return render_template(\"home.html\")\n",
    "\n",
    "@app.route(\"/login\")\n",
    "def login():\n",
    "    return render_template(\"login.html\")\n",
    "\n",
    "@app.route(\"/logout\")\n",
    "def logout():\n",
    "    return redirect(url_for(\"home\"))\n",
    "\n",
    "@app.route('/submit',methods = ['POST', 'GET'])\n",
    "def submit():\n",
    "    if request.method == 'POST':\n",
    "        user = request.form['nm']\n",
    "        return f\"Login successfully by post method. \\n Hello {user}\"\n",
    "    else:\n",
    "        user = request.args.get('nm')\n",
    "        return f\"Login successfully by get method. \\n Hello {user}\"\n",
    "    \n",
    "\n",
    "if __name__ == \"__main__\":\n",
    "    app.run()"
   ]
  },
  {
   "cell_type": "code",
   "execution_count": null,
   "metadata": {},
   "outputs": [],
   "source": []
  }
 ],
 "metadata": {
  "kernelspec": {
   "display_name": "Python 3",
   "language": "python",
   "name": "python3"
  },
  "language_info": {
   "codemirror_mode": {
    "name": "ipython",
    "version": 3
   },
   "file_extension": ".py",
   "mimetype": "text/x-python",
   "name": "python",
   "nbconvert_exporter": "python",
   "pygments_lexer": "ipython3",
   "version": "3.7.6"
  }
 },
 "nbformat": 4,
 "nbformat_minor": 4
}
